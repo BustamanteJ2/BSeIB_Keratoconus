{
 "cells": [
  {
   "cell_type": "markdown",
   "metadata": {},
   "source": [
    "> 🧑Bustamante Juárez Eduardo. 🔢 Matrícula: 10056926 📬eduardo.bustamantej@uaem.edu.mx\n",
    "\n",
    "> 🏫 Centro de Investigación en Ciencias (UAEM). 📌 Cuernavaca, Morelos.\n",
    "\n",
    "> 🌐 [Datos almacenados en Carpeta de Google Drive con vista pública.](https://drive.google.com/drive/folders/1vfuFmIgW4S58i5dWlpR5_IobWIC-Anih?usp=sharing)\n"
   ]
  },
  {
   "cell_type": "markdown",
   "metadata": {},
   "source": [
    "# 🦾 Estractor de datos.\n",
    "\n",
    "--- "
   ]
  },
  {
   "cell_type": "markdown",
   "metadata": {},
   "source": [
    "**Descripción:** notebook de Python donde se realizara y documentara el script encargado de la extracción de información desde el conjunto de datos original. \n",
    "\n",
    "🎯 **Objetivo:** Realizar la extracción de información vital de las topografías almacenadas en el set de datos. "
   ]
  },
  {
   "cell_type": "markdown",
   "metadata": {},
   "source": [
    "> 📌 Importación de librerías. "
   ]
  },
  {
   "cell_type": "code",
   "execution_count": 1,
   "metadata": {},
   "outputs": [
    {
     "name": "stdout",
     "output_type": "stream",
     "text": [
      "Requirement already satisfied: pillow in c:\\users\\busta\\appdata\\local\\packages\\pythonsoftwarefoundation.python.3.11_qbz5n2kfra8p0\\localcache\\local-packages\\python311\\site-packages (10.3.0)\n",
      "Requirement already satisfied: numpy in c:\\users\\busta\\appdata\\local\\packages\\pythonsoftwarefoundation.python.3.11_qbz5n2kfra8p0\\localcache\\local-packages\\python311\\site-packages (1.26.4)\n",
      "Note: you may need to restart the kernel to use updated packages.\n"
     ]
    }
   ],
   "source": [
    "%pip install pillow numpy"
   ]
  },
  {
   "cell_type": "code",
   "execution_count": 2,
   "metadata": {},
   "outputs": [],
   "source": [
    "import os\n",
    "import csv\n",
    "import re\n",
    "from PIL import Image #type: ignore\n",
    "import numpy as np    #type: ignore"
   ]
  },
  {
   "cell_type": "markdown",
   "metadata": {},
   "source": [
    "## Obtener ruta path de las imagenes."
   ]
  },
  {
   "cell_type": "markdown",
   "metadata": {},
   "source": [
    "Ruta base donde están las carpetas \"Independent Test Set\" y \"Train_Validation sets\""
   ]
  },
  {
   "cell_type": "code",
   "execution_count": 3,
   "metadata": {},
   "outputs": [],
   "source": [
    "base_dir = r'C:\\Users\\Busta\\Documents\\GitHub\\BSeIB_Keratoconus'\n",
    "train_validation_dir = os.path.join(base_dir, 'Train_Validation sets')\n",
    "independent_test_dir = os.path.join(base_dir, 'Independent Test Set')"
   ]
  },
  {
   "cell_type": "markdown",
   "metadata": {},
   "source": [
    "Mapeo de etiquetas"
   ]
  },
  {
   "cell_type": "code",
   "execution_count": 4,
   "metadata": {},
   "outputs": [],
   "source": [
    "label_map = {\n",
    "    0: 'Normal',\n",
    "    1: 'Suspect',\n",
    "    2: 'Keratoconus'\n",
    "}"
   ]
  },
  {
   "cell_type": "markdown",
   "metadata": {},
   "source": [
    "Prefijos para los nombres de archivos según la etiqueta"
   ]
  },
  {
   "cell_type": "code",
   "execution_count": 5,
   "metadata": {},
   "outputs": [],
   "source": [
    "prefix_map = {\n",
    "    0: 'NOR',\n",
    "    1: 'SUSP',\n",
    "    2: 'KCN'\n",
    "}"
   ]
  },
  {
   "cell_type": "code",
   "execution_count": 6,
   "metadata": {},
   "outputs": [],
   "source": [
    "def get_image_paths(root_folder, label_map, prefix_map):\n",
    "    data = []\n",
    "    patient_id = 1\n",
    "    \n",
    "    for label, label_name in label_map.items():\n",
    "        label_folder = os.path.join(root_folder, label_name)\n",
    "        cases = os.listdir(label_folder)\n",
    "        \n",
    "        for case in cases:\n",
    "            case_folder = os.path.join(label_folder, case)\n",
    "            image_files = os.listdir(case_folder)\n",
    "            \n",
    "            # Filtrar solo archivos de imágenes\n",
    "            image_files = [file for file in image_files if file.endswith('.jpg')]\n",
    "            \n",
    "            if len(image_files) != 7:\n",
    "                continue\n",
    "            \n",
    "            prefix = prefix_map[label]\n",
    "            case_number = case.split('case')[-1]\n",
    "\n",
    "            CT_A = os.path.relpath(os.path.join(case_folder, f'{prefix}_{case_number}_CT_A.jpg'), base_dir)\n",
    "            EC_A = os.path.relpath(os.path.join(case_folder, f'{prefix}_{case_number}_EC_A.jpg'), base_dir)\n",
    "            EC_P = os.path.relpath(os.path.join(case_folder, f'{prefix}_{case_number}_EC_P.jpg'), base_dir)\n",
    "            Elv_A = os.path.relpath(os.path.join(case_folder, f'{prefix}_{case_number}_Elv_A.jpg'), base_dir)\n",
    "            Elv_P = os.path.relpath(os.path.join(case_folder, f'{prefix}_{case_number}_Elv_P.jpg'), base_dir)\n",
    "            Sag_A = os.path.relpath(os.path.join(case_folder, f'{prefix}_{case_number}_Sag_A.jpg'), base_dir)\n",
    "            Sag_P = os.path.relpath(os.path.join(case_folder, f'{prefix}_{case_number}_Sag_P.jpg'), base_dir)\n",
    "            \n",
    "            data.append({\n",
    "                'PatientID': patient_id,\n",
    "                'Label': label,\n",
    "                'CT_A': CT_A,\n",
    "                'EC_A': EC_A,\n",
    "                'EC_P': EC_P,\n",
    "                'Elv_A': Elv_A,\n",
    "                'Elv_P': Elv_P,\n",
    "                'Sag_A': Sag_A,\n",
    "                'Sag_P': Sag_P\n",
    "            })\n",
    "            patient_id += 1\n",
    "    \n",
    "    return data"
   ]
  },
  {
   "cell_type": "markdown",
   "metadata": {},
   "source": [
    "Obtener datos para Train_Validation sets"
   ]
  },
  {
   "cell_type": "code",
   "execution_count": 7,
   "metadata": {},
   "outputs": [],
   "source": [
    "\n",
    "train_data = get_image_paths(train_validation_dir, label_map, prefix_map)"
   ]
  },
  {
   "cell_type": "markdown",
   "metadata": {},
   "source": [
    "Escribir el archivo CSV para Train_Validation sets"
   ]
  },
  {
   "cell_type": "code",
   "execution_count": 8,
   "metadata": {},
   "outputs": [],
   "source": [
    "train_csv_file = os.path.join(base_dir, 'train_validation_path.csv')\n",
    "csv_columns = ['PatientID', 'Label', 'CT_A', 'EC_A', 'EC_P', 'Elv_A', 'Elv_P', 'Sag_A', 'Sag_P']"
   ]
  },
  {
   "cell_type": "code",
   "execution_count": 10,
   "metadata": {},
   "outputs": [
    {
     "name": "stdout",
     "output_type": "stream",
     "text": [
      "Archivo CSV para Train_Validation sets generado: C:\\Users\\Busta\\Documents\\GitHub\\BSeIB_Keratoconus\\train_validation_path.csv\n"
     ]
    }
   ],
   "source": [
    "with open(train_csv_file, 'w', newline='') as csvfile:\n",
    "    writer = csv.DictWriter(csvfile, fieldnames=csv_columns)\n",
    "    writer.writeheader()\n",
    "    for data in train_data:\n",
    "        writer.writerow(data)\n",
    "\n",
    "print(f'Archivo CSV para Train_Validation sets generado: {train_csv_file}')"
   ]
  },
  {
   "cell_type": "markdown",
   "metadata": {},
   "source": [
    "Obtener datos para Independent Test Set"
   ]
  },
  {
   "cell_type": "code",
   "execution_count": 11,
   "metadata": {},
   "outputs": [],
   "source": [
    "test_data = get_image_paths(independent_test_dir, label_map, prefix_map)"
   ]
  },
  {
   "cell_type": "markdown",
   "metadata": {},
   "source": [
    "Escribir el archivo CSV para Independent Test Set"
   ]
  },
  {
   "cell_type": "code",
   "execution_count": 12,
   "metadata": {},
   "outputs": [],
   "source": [
    "test_csv_file = os.path.join(base_dir, 'independent_test_path.csv')"
   ]
  },
  {
   "cell_type": "code",
   "execution_count": 13,
   "metadata": {},
   "outputs": [
    {
     "name": "stdout",
     "output_type": "stream",
     "text": [
      "Archivo CSV para Independent Test Set generado: C:\\Users\\Busta\\Documents\\GitHub\\BSeIB_Keratoconus\\independent_test_path.csv\n"
     ]
    }
   ],
   "source": [
    "with open(test_csv_file, 'w', newline='') as csvfile:\n",
    "    writer = csv.DictWriter(csvfile, fieldnames=csv_columns)\n",
    "    writer.writeheader()\n",
    "    for data in test_data:\n",
    "        writer.writerow(data)\n",
    "\n",
    "print(f'Archivo CSV para Independent Test Set generado: {test_csv_file}')"
   ]
  }
 ],
 "metadata": {
  "kernelspec": {
   "display_name": "Python 3",
   "language": "python",
   "name": "python3"
  },
  "language_info": {
   "codemirror_mode": {
    "name": "ipython",
    "version": 3
   },
   "file_extension": ".py",
   "mimetype": "text/x-python",
   "name": "python",
   "nbconvert_exporter": "python",
   "pygments_lexer": "ipython3",
   "version": "3.11.9"
  }
 },
 "nbformat": 4,
 "nbformat_minor": 2
}
